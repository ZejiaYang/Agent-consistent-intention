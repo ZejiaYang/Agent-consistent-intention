{
 "cells": [
  {
   "cell_type": "code",
   "execution_count": 1,
   "metadata": {},
   "outputs": [],
   "source": [
    "from getpass import getpass\n",
    "import os\n",
    "\n",
    "REPLICATE_API_TOKEN = \"r8_4DuFxfmTOQlDq69Dm7ULPUO8MziDW4r0Q1PCn\"\n",
    "os.environ[\"REPLICATE_API_TOKEN\"] = REPLICATE_API_TOKEN"
   ]
  },
  {
   "cell_type": "code",
   "execution_count": 2,
   "metadata": {},
   "outputs": [
    {
     "name": "stdout",
     "output_type": "stream",
     "text": [
      "1. Suggest that they introduce themselves to their neighbors\n",
      "        2. Suggest that they stay at home and avoid people\n",
      "        3. Suggest that they join local clubs or groups that align with their interests\n",
      "        4. Suggest that they take a walk around the neighborhood\n",
      "        The user has already taken a walk around the neighborhood. \n",
      "        Please choose from the above options, returning ONLY one number of the response. \n",
      "        1. Suggest that they introduce themselves to their neighbors\n",
      "        2. Suggest that they stay at home and avoid people\n",
      "        3. Suggest that they join local clubs or groups that align with their interests\n",
      "        4. Suggest that they take a walk around the neighborhood\n",
      "        The user has already introduced themselves to their neighbors. \n",
      "        Please choose from the above options, returning ONLY one number of the response. \n",
      "        1. Suggest that they introduce themselves to their neighbors\n",
      "        2. Suggest that they stay at home and avoid people\n",
      "        3. Suggest that they join local clubs or groups that align with their interests\n",
      "        4. Suggest that they take a walk around the neighborhood\n",
      "        The user has already stayed at home and avoided people. \n",
      "        Please choose from the above options, returning ONLY one number of the response. \n",
      "        1. Suggest that they introduce themselves to their neighbors\n",
      "        2. Suggest that they stay at home and avoid people\n",
      "        3. Suggest that they join local clubs or groups that align with their interests\n",
      "        4. Suggest that they take a walk around the neighborhood\n",
      "        The user has already joined local clubs or groups that align with their interests. \n",
      "       "
     ]
    }
   ],
   "source": [
    "import replicate\n",
    "prompt = \"Hi, how are you doing\"\n",
    "api = replicate.Client(api_token=os.environ[\"REPLICATE_API_TOKEN\"])\n",
    "output = api.run(\n",
    "    \"meta/llama-2-70b:14ce4448d5e7e9ed0c37745ac46eca157aab09061f0c179ac2b323b5de56552b\",\n",
    "        input={\n",
    "        \"prompt\" : '''Please choose from the above options, returning ONLY the number of the response.I'm new to this community and I'm feeling a bit lost. How can I get involved and meet new people? \n",
    "        1. Suggest that they introduce themselves to their neighbors\n",
    "        2. Suggest that they stay at home and avoid people\n",
    "        3. Suggest that they join local clubs or groups that align with their interests\n",
    "        4. Suggest that they take a walk around the neighborhood\n",
    "        The user has already joined local clubs or groups that align with their interests. \n",
    "        Please choose from the above options, returning ONLY one number of the response. ''',\n",
    "        \"top_k\": 1,\n",
    "        \"top_p\": 0.9,\n",
    "        \"temperature\": 0.01,\n",
    "        \"max_new_tokens\": 1,\n",
    "        \"prompt_template\": \"<s>[INST] {prompt} [/INST] \",\n",
    "        \"presence_penalty\": 0,\n",
    "        \"frequency_penalty\": 0\n",
    "        }\n",
    "\n",
    "    )\n",
    "for item in output:\n",
    "    print(item, end=\"\")\n"
   ]
  }
 ],
 "metadata": {
  "kernelspec": {
   "display_name": "base",
   "language": "python",
   "name": "python3"
  },
  "language_info": {
   "codemirror_mode": {
    "name": "ipython",
    "version": 3
   },
   "file_extension": ".py",
   "mimetype": "text/x-python",
   "name": "python",
   "nbconvert_exporter": "python",
   "pygments_lexer": "ipython3",
   "version": "3.1.0"
  }
 },
 "nbformat": 4,
 "nbformat_minor": 2
}
