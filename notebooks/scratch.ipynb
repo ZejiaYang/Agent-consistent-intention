{
 "cells": [
  {
   "cell_type": "code",
   "execution_count": 2,
   "metadata": {},
   "outputs": [],
   "source": [
    "\n",
    "import sys\n",
    "import os\n",
    "from pathlib import Path\n",
    "import json \n",
    "import os\n",
    "sys.path.append(os.path.join(Path.cwd().parent, 'src' ) ) \n",
    "sys.path.append(os.path.join(Path.cwd().parent, 'src' , 'utils') ) \n",
    "from utils import load_data, json_arr_to_file, run_api_call, intention_prompt_first, intention_prompt_second\n",
    "# from utils import prompt_dataset, load_examples_all\n",
    "# from utils import * \n",
    "from utils import union_list_save_csv \n"
   ]
  },
  {
   "cell_type": "code",
   "execution_count": 29,
   "metadata": {},
   "outputs": [],
   "source": []
  },
  {
   "cell_type": "code",
   "execution_count": 38,
   "metadata": {},
   "outputs": [
    {
     "name": "stdout",
     "output_type": "stream",
     "text": [
      "Calling API with gpt-3.5-turbo\n"
     ]
    }
   ],
   "source": []
  },
  {
   "cell_type": "code",
   "execution_count": 59,
   "metadata": {},
   "outputs": [
    {
     "name": "stdout",
     "output_type": "stream",
     "text": [
      "/Users/gracecolverd/MARS/Rhys_stream/data/dataset/d_name--gpt-4-dataset-V2/helpful\n",
      "/Users/gracecolverd/MARS/Rhys_stream/data/dataset/d_name--gpt-4-dataset-V2/harmless\n",
      "25--Personal Relationships.json\n",
      "11\n",
      "25--Career and Job Search.json\n",
      "10\n",
      "25--Travel.json\n",
      "10\n"
     ]
    }
   ],
   "source": [
    "files_with_less_than_20_entries = [] \n",
    "\n",
    "import glob \n",
    "\n",
    "folders = glob.glob('/Users/gracecolverd/MARS/Rhys_stream/data/dataset/d_name--gpt-4-dataset-V2/*')\n",
    "# Replace 'your_folder_path' with the path to your folder containing JSON files\n",
    "for folder_path in folders:\n",
    "    print(folder_path)\n",
    "    # Iterate over each file in the folder\n",
    "    for filename in os.listdir(folder_path):\n",
    "        if filename.endswith('.json'):  # Check if the file is a JSON file\n",
    "            file_path = os.path.join(folder_path, filename)\n",
    "\n",
    "            with open(file_path, 'r') as file:\n",
    "                # Load JSON data from file\n",
    "               with open(file_path, 'r') as file:\n",
    "                # Load JSON data from file\n",
    "                data = json.load(file)\n",
    "\n",
    "                # Determine number of entries (items in array or key-value pairs in object)\n",
    "                num_entries = None\n",
    "                if isinstance(data, list):\n",
    "                    num_entries = len(data) \n",
    "                    if num_entries < 20:\n",
    "                        print(filename )\n",
    "                        print(num_entries )\n",
    "                    \n",
    "                elif isinstance(data, dict):\n",
    "                    num_entries = len(data.keys())  # Number of key-value pairs in object\n",
    "\n",
    "                # Check if the file has less than 20 entries\n",
    "                if num_entries is not None and num_entries < 20:\n",
    "                    files_with_less_than_20_entries.append(file_path)\n",
    "               "
   ]
  },
  {
   "cell_type": "code",
   "execution_count": 64,
   "metadata": {},
   "outputs": [
    {
     "data": {
      "text/plain": [
       "({1: {'label': 4, 'option': 'op4', 'adapt_outcome': '44'},\n",
       "  2: {'label': 2, 'option': 'op2', 'adapt_outcome': '22'},\n",
       "  3: {'label': 1, 'option': 'op1', 'adapt_outcome': '1'},\n",
       "  4: {'label': 3, 'option': 'op3', 'adapt_outcome': '33'}},\n",
       " ['1. op4', '2. op2', '3. op1', '4. op3'])"
      ]
     },
     "execution_count": 64,
     "metadata": {},
     "output_type": "execute_result"
    }
   ],
   "source": [
    "import random \n",
    "\n",
    "labels = [1,2,3,4] \n",
    "adapt_outcomes = ['1' , '22' , '33' , '44' ]\n",
    "options = ['op1', 'op2', 'op3', 'op4']\n",
    "# Zip options, labels, and adapt outcomes\n",
    "zipped = list(zip(options, labels, adapt_outcomes))\n",
    "\n",
    "# Randomize the order\n",
    "random.shuffle(zipped)\n",
    "\n",
    "# Enumerate the options (starting from 1) and create the mapping\n",
    "mapping = {}\n",
    "numbered_options = []\n",
    "for number, (option, label, outcome) in enumerate(zipped, start=1):\n",
    "    mapping[number] = {'label': label,'option' : option ,  'adapt_outcome': outcome}\n",
    "    numbered_options.append(f\"{number}. {option}\")\n",
    "mapping, numbered_options"
   ]
  },
  {
   "cell_type": "code",
   "execution_count": 82,
   "metadata": {},
   "outputs": [],
   "source": [
    "import re\n",
    "\n",
    "def extract_numbers_in_range(text, lower=1, upper=5):\n",
    "    # This pattern will match whole numbers in the text\n",
    "    pattern = r'\\b[1-5]\\b'\n",
    "    \n",
    "    # Find all matches in the text\n",
    "    matches = re.findall(pattern, text)\n",
    "    \n",
    "    # Convert matched strings to integers\n",
    "    numbers = [int(match) for match in matches if lower <= int(match) <= upper]\n",
    "    if len(numbers) != 1:\n",
    "        raise ValueError('More than one answer received.')\n",
    "    return numbers[0] "
   ]
  },
  {
   "cell_type": "code",
   "execution_count": 3,
   "metadata": {},
   "outputs": [],
   "source": [
    "import glob\n",
    "import json\n",
    "\n",
    "# Specify the directory containing your JSON files\n",
    "path = '/Users/gracecolverd/MARS/Rhys_stream/data/dataset/d_name--gpt-4-dataset-V2/harmless/*.json'\n",
    "\n",
    "# Use glob to find all JSON files in the specified directory\n",
    "files = glob.glob(path)"
   ]
  },
  {
   "cell_type": "code",
   "execution_count": 4,
   "metadata": {},
   "outputs": [
    {
     "name": "stderr",
     "output_type": "stream",
     "text": [
      "/Users/gracecolverd/MARS/Rhys_stream/src/utils/json_proc.py:43: FutureWarning: Passing literal json to 'read_json' is deprecated and will be removed in a future version. To read from a literal string, wrap it in a 'StringIO' object.\n",
      "  pd.read_json(json.dumps(combined_data)).to_csv(out_path)\n"
     ]
    }
   ],
   "source": [
    "union_list_save_csv(files, 'testttt.csv' )"
   ]
  },
  {
   "cell_type": "code",
   "execution_count": 57,
   "metadata": {},
   "outputs": [
    {
     "name": "stdout",
     "output_type": "stream",
     "text": [
      "Combined JSON has been saved to gpt4_v2_harmless.json\n"
     ]
    }
   ],
   "source": [
    "\n"
   ]
  },
  {
   "cell_type": "code",
   "execution_count": 58,
   "metadata": {},
   "outputs": [
    {
     "name": "stderr",
     "output_type": "stream",
     "text": [
      "/var/folders/n5/_2d3c5sd5j3810327mknn0sh0000gn/T/ipykernel_36806/3055851801.py:1: FutureWarning: Passing literal json to 'read_json' is deprecated and will be removed in a future version. To read from a literal string, wrap it in a 'StringIO' object.\n",
      "  pd.read_json(json.dumps(combined_data)).to_csv('4_harmless_fulldataset.csv')\n"
     ]
    }
   ],
   "source": [
    "pd.read_json(json.dumps(combined_data)).to_csv('4_harmless_fulldataset.csv')"
   ]
  },
  {
   "cell_type": "code",
   "execution_count": 9,
   "metadata": {},
   "outputs": [],
   "source": [
    "hh = ['Helpful', 'Harmless']\n",
    "run_name = 'test'\n",
    "file_dir = f\"../data/dataset/intention-{run_name}\"\n",
    "os.makedirs(os.path.dirname(file_dir), exist_ok=True)\n",
    "for f in hh:\n",
    "    f=f.lower() \n",
    "    os.makedirs(f'../data/{file_dir}/{f}' , exist_ok=True)"
   ]
  },
  {
   "cell_type": "code",
   "execution_count": 10,
   "metadata": {},
   "outputs": [
    {
     "ename": "NameError",
     "evalue": "name '__file__' is not defined",
     "output_type": "error",
     "traceback": [
      "\u001b[0;31m---------------------------------------------------------------------------\u001b[0m",
      "\u001b[0;31mNameError\u001b[0m                                 Traceback (most recent call last)",
      "\u001b[1;32m/Users/gracecolverd/MARS/Rhys_stream/notebooks/scratch.ipynb Cell 4\u001b[0m line \u001b[0;36m1\n\u001b[0;32m----> <a href='vscode-notebook-cell:/Users/gracecolverd/MARS/Rhys_stream/notebooks/scratch.ipynb#W4sZmlsZQ%3D%3D?line=0'>1</a>\u001b[0m os\u001b[39m.\u001b[39mpath\u001b[39m.\u001b[39mdirname(\u001b[39m__file__\u001b[39;49m)\n",
      "\u001b[0;31mNameError\u001b[0m: name '__file__' is not defined"
     ]
    }
   ],
   "source": [
    "os.path.dirname(__file__)"
   ]
  },
  {
   "cell_type": "code",
   "execution_count": 11,
   "metadata": {},
   "outputs": [
    {
     "ename": "NameError",
     "evalue": "name '__file__' is not defined",
     "output_type": "error",
     "traceback": [
      "\u001b[0;31m---------------------------------------------------------------------------\u001b[0m",
      "\u001b[0;31mNameError\u001b[0m                                 Traceback (most recent call last)",
      "\u001b[1;32m/Users/gracecolverd/MARS/Rhys_stream/notebooks/scratch.ipynb Cell 5\u001b[0m line \u001b[0;36m5\n\u001b[1;32m      <a href='vscode-notebook-cell:/Users/gracecolverd/MARS/Rhys_stream/notebooks/scratch.ipynb#W3sZmlsZQ%3D%3D?line=1'>2</a>\u001b[0m \u001b[39mimport\u001b[39;00m \u001b[39mjson\u001b[39;00m\n\u001b[1;32m      <a href='vscode-notebook-cell:/Users/gracecolverd/MARS/Rhys_stream/notebooks/scratch.ipynb#W3sZmlsZQ%3D%3D?line=3'>4</a>\u001b[0m example_path \u001b[39m=\u001b[39m \u001b[39m'\u001b[39m\u001b[39m../examples/scenarios\u001b[39m\u001b[39m'\u001b[39m\n\u001b[0;32m----> <a href='vscode-notebook-cell:/Users/gracecolverd/MARS/Rhys_stream/notebooks/scratch.ipynb#W3sZmlsZQ%3D%3D?line=4'>5</a>\u001b[0m example_path \u001b[39m=\u001b[39m os\u001b[39m.\u001b[39mpath\u001b[39m.\u001b[39mjoin(os\u001b[39m.\u001b[39mpath\u001b[39m.\u001b[39mdirname(\u001b[39m__file__\u001b[39;49m), \u001b[39m'\u001b[39m\u001b[39m../examples/scenarios\u001b[39m\u001b[39m'\u001b[39m)\n",
      "\u001b[0;31mNameError\u001b[0m: name '__file__' is not defined"
     ]
    }
   ],
   "source": [
    "import os\n",
    "import json\n",
    "\n",
    "example_path = '../examples/scenarios'\n",
    "example_path = os.path.join(os.path.dirname(__file__), '../src/utils')\n"
   ]
  },
  {
   "cell_type": "code",
   "execution_count": 12,
   "metadata": {},
   "outputs": [
    {
     "name": "stdout",
     "output_type": "stream",
     "text": [
      "Making Directories for run name gpt_4_test\n"
     ]
    }
   ],
   "source": [
    "run_name = 'gpt_4_test' \n",
    "print(f'Making Directories for run name {run_name}')\n",
    "file_dir = f\"../data/dataset/intention-{run_name}\"\n",
    "os.makedirs(os.path.dirname(file_dir), exist_ok=True)\n",
    "for f in hh:\n",
    "    f=f.lower() \n",
    "    os.makedirs(f'../data/{file_dir}/{f}' , exist_ok=True)"
   ]
  },
  {
   "cell_type": "code",
   "execution_count": null,
   "metadata": {},
   "outputs": [],
   "source": []
  }
 ],
 "metadata": {
  "kernelspec": {
   "display_name": "llms",
   "language": "python",
   "name": "python3"
  },
  "language_info": {
   "codemirror_mode": {
    "name": "ipython",
    "version": 3
   },
   "file_extension": ".py",
   "mimetype": "text/x-python",
   "name": "python",
   "nbconvert_exporter": "python",
   "pygments_lexer": "ipython3",
   "version": "3.11.4"
  }
 },
 "nbformat": 4,
 "nbformat_minor": 2
}
