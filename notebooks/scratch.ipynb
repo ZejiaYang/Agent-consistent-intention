{
 "cells": [
  {
   "cell_type": "code",
   "execution_count": 3,
   "metadata": {},
   "outputs": [],
   "source": [
    "\n",
    "import sys\n",
    "import os\n",
    "from pathlib import Path\n",
    "import json \n",
    "import os\n",
    "sys.path.append(os.path.join(Path.cwd().parent, 'src' ) ) \n",
    "sys.path.append(os.path.join(Path.cwd().parent, 'src' , 'utils') ) \n",
    "from utils import load_data, json_arr_to_file, run_api_call, intention_prompt_first, intention_prompt_second\n",
    "from utils import prompt_dataset, load_examples_all\n"
   ]
  },
  {
   "cell_type": "code",
   "execution_count": 20,
   "metadata": {},
   "outputs": [],
   "source": [
    "# Make dir to store processed data\n",
    "script_dir = Path.cwd().parent\n",
    "model = 'gpt00'\n",
    "run_name = 'gpt-4_test'\n",
    "file_dir = os.path.join(script_dir, \"data\", \"processed\", f\"model_{model}\",  run_name)\n",
    "os.makedirs(file_dir, exist_ok=True)\n",
    "for f in  ['helpful', 'harmless']:\n",
    "    os.makedirs( os.path.join(file_dir, f) , exist_ok=True)"
   ]
  },
  {
   "cell_type": "code",
   "execution_count": 21,
   "metadata": {},
   "outputs": [
    {
     "name": "stdout",
     "output_type": "stream",
     "text": [
      "/Users/gracecolverd/MARS/Rhys_stream/data/processed/model_gpt00/gpt-4_test/helpful/3--Community.json\n",
      "/Users/gracecolverd/MARS/Rhys_stream/data/processed/model_gpt00/gpt-4_test/helpful/3--Technology Use.json\n",
      "/Users/gracecolverd/MARS/Rhys_stream/data/processed/model_gpt00/gpt-4_test/helpful/3--Medical.json\n",
      "/Users/gracecolverd/MARS/Rhys_stream/data/processed/model_gpt00/gpt-4_test/harmless/3--Community.json\n",
      "/Users/gracecolverd/MARS/Rhys_stream/data/processed/model_gpt00/gpt-4_test/harmless/3--Technology Use.json\n",
      "/Users/gracecolverd/MARS/Rhys_stream/data/processed/model_gpt00/gpt-4_test/harmless/3--Medical.json\n"
     ]
    }
   ],
   "source": [
    "import glob \n",
    "run_name = 'gpt-4_test'\n",
    "topics_files = glob.glob(f'{script_dir}/data/dataset/{run_name}/*/*')\n",
    "\n",
    "for file in topics_files:\n",
    "    file_name = file.split('/')[-1]\n",
    "    hh = file.split('/')[-2]\n",
    "    write_path = os.path.join(file_dir, hh,  file_name ) \n",
    "    print(write_path)"
   ]
  },
  {
   "cell_type": "code",
   "execution_count": 22,
   "metadata": {},
   "outputs": [
    {
     "data": {
      "text/plain": [
       "False"
      ]
     },
     "execution_count": 22,
     "metadata": {},
     "output_type": "execute_result"
    }
   ],
   "source": [
    "p = '/Users/gracecolverd/MARS/Rhys_stream/data/dataset/d_name--gpt-4-dataset-V1/Harmless/25--Medical.json'\n",
    "\n",
    "/Users/gracecolverd/MARS/Rhys_stream/data/dataset/d_name--gpt-4-dataset-V1/helpful/25--Medical.json\n",
    "os.path.exists(p)"
   ]
  },
  {
   "cell_type": "code",
   "execution_count": 8,
   "metadata": {},
   "outputs": [
    {
     "data": {
      "text/plain": [
       "'Private relevant information: apart. Return a number between 1 and 4 ONLY'"
      ]
     },
     "execution_count": 8,
     "metadata": {},
     "output_type": "execute_result"
    }
   ],
   "source": [
    "scenario = 'etes' \n",
    "pr_string = 'op1', 'op2', 'op3', 'op4' \n",
    "\n",
    "intention_prompt_second(scenario, pr_string, 'apart')[0]['content']"
   ]
  },
  {
   "cell_type": "code",
   "execution_count": 31,
   "metadata": {},
   "outputs": [],
   "source": []
  },
  {
   "cell_type": "code",
   "execution_count": 34,
   "metadata": {},
   "outputs": [
    {
     "name": "stdout",
     "output_type": "stream",
     "text": [
      "['/Users/gracecolverd/MARS/Rhys_stream/data/dataset/d_name--gpt-4-dataset-V1/harmless/25--Cultural Issues.json', '/Users/gracecolverd/MARS/Rhys_stream/data/dataset/d_name--gpt-4-dataset-V1/harmless/25--Travel.json']\n"
     ]
    }
   ],
   "source": [
    "\n",
    "files_with_less_than_20_entries = [] \n",
    "\n",
    "\n",
    "folders = glob.glob('/Users/gracecolverd/MARS/Rhys_stream/data/dataset/d_name--gpt-4-dataset-V1/*/')\n",
    "# Replace 'your_folder_path' with the path to your folder containing JSON files\n",
    "for folder_path in folders:\n",
    "    # Iterate over each file in the folder\n",
    "    for filename in os.listdir(folder_path):\n",
    "        if filename.endswith('.json'):  # Check if the file is a JSON file\n",
    "            file_path = os.path.join(folder_path, filename)\n",
    "\n",
    "            with open(file_path, 'r') as file:\n",
    "                # Load JSON data from file\n",
    "               with open(file_path, 'r') as file:\n",
    "                # Load JSON data from file\n",
    "                data = json.load(file)\n",
    "\n",
    "                # Determine number of entries (items in array or key-value pairs in object)\n",
    "                num_entries = None\n",
    "                if isinstance(data, list):\n",
    "                    num_entries = len(data)  # Number of items in array\n",
    "                elif isinstance(data, dict):\n",
    "                    num_entries = len(data.keys())  # Number of key-value pairs in object\n",
    "\n",
    "                # Check if the file has less than 20 entries\n",
    "                if num_entries is not None and num_entries < 20:\n",
    "                    files_with_less_than_20_entries.append(file_path)\n",
    "               \n",
    "print(files_with_less_than_20_entries)"
   ]
  },
  {
   "cell_type": "code",
   "execution_count": 5,
   "metadata": {},
   "outputs": [],
   "source": [
    "import os \n",
    "# example_path = os.path.join(os.path.dirname(__file__), '../examples/scenarios')\n",
    "example_path = '/Users/gracecolverd/MARS/Rhys_stream/src/examples/scenarios/5pin'\n",
    "file_names = os.listdir(example_path)"
   ]
  },
  {
   "cell_type": "code",
   "execution_count": 6,
   "metadata": {},
   "outputs": [
    {
     "data": {
      "text/plain": [
       "['harmless_example 5pin.json', 'helpful_example_5pin.json']"
      ]
     },
     "execution_count": 6,
     "metadata": {},
     "output_type": "execute_result"
    }
   ],
   "source": [
    "file_names"
   ]
  },
  {
   "cell_type": "code",
   "execution_count": 9,
   "metadata": {},
   "outputs": [],
   "source": [
    "hh = ['Helpful', 'Harmless']\n",
    "run_name = 'test'\n",
    "file_dir = f\"../data/dataset/intention-{run_name}\"\n",
    "os.makedirs(os.path.dirname(file_dir), exist_ok=True)\n",
    "for f in hh:\n",
    "    f=f.lower() \n",
    "    os.makedirs(f'../data/{file_dir}/{f}' , exist_ok=True)"
   ]
  },
  {
   "cell_type": "code",
   "execution_count": 10,
   "metadata": {},
   "outputs": [
    {
     "ename": "NameError",
     "evalue": "name '__file__' is not defined",
     "output_type": "error",
     "traceback": [
      "\u001b[0;31m---------------------------------------------------------------------------\u001b[0m",
      "\u001b[0;31mNameError\u001b[0m                                 Traceback (most recent call last)",
      "\u001b[1;32m/Users/gracecolverd/MARS/Rhys_stream/notebooks/scratch.ipynb Cell 4\u001b[0m line \u001b[0;36m1\n\u001b[0;32m----> <a href='vscode-notebook-cell:/Users/gracecolverd/MARS/Rhys_stream/notebooks/scratch.ipynb#W4sZmlsZQ%3D%3D?line=0'>1</a>\u001b[0m os\u001b[39m.\u001b[39mpath\u001b[39m.\u001b[39mdirname(\u001b[39m__file__\u001b[39;49m)\n",
      "\u001b[0;31mNameError\u001b[0m: name '__file__' is not defined"
     ]
    }
   ],
   "source": [
    "os.path.dirname(__file__)"
   ]
  },
  {
   "cell_type": "code",
   "execution_count": 11,
   "metadata": {},
   "outputs": [
    {
     "ename": "NameError",
     "evalue": "name '__file__' is not defined",
     "output_type": "error",
     "traceback": [
      "\u001b[0;31m---------------------------------------------------------------------------\u001b[0m",
      "\u001b[0;31mNameError\u001b[0m                                 Traceback (most recent call last)",
      "\u001b[1;32m/Users/gracecolverd/MARS/Rhys_stream/notebooks/scratch.ipynb Cell 5\u001b[0m line \u001b[0;36m5\n\u001b[1;32m      <a href='vscode-notebook-cell:/Users/gracecolverd/MARS/Rhys_stream/notebooks/scratch.ipynb#W3sZmlsZQ%3D%3D?line=1'>2</a>\u001b[0m \u001b[39mimport\u001b[39;00m \u001b[39mjson\u001b[39;00m\n\u001b[1;32m      <a href='vscode-notebook-cell:/Users/gracecolverd/MARS/Rhys_stream/notebooks/scratch.ipynb#W3sZmlsZQ%3D%3D?line=3'>4</a>\u001b[0m example_path \u001b[39m=\u001b[39m \u001b[39m'\u001b[39m\u001b[39m../examples/scenarios\u001b[39m\u001b[39m'\u001b[39m\n\u001b[0;32m----> <a href='vscode-notebook-cell:/Users/gracecolverd/MARS/Rhys_stream/notebooks/scratch.ipynb#W3sZmlsZQ%3D%3D?line=4'>5</a>\u001b[0m example_path \u001b[39m=\u001b[39m os\u001b[39m.\u001b[39mpath\u001b[39m.\u001b[39mjoin(os\u001b[39m.\u001b[39mpath\u001b[39m.\u001b[39mdirname(\u001b[39m__file__\u001b[39;49m), \u001b[39m'\u001b[39m\u001b[39m../examples/scenarios\u001b[39m\u001b[39m'\u001b[39m)\n",
      "\u001b[0;31mNameError\u001b[0m: name '__file__' is not defined"
     ]
    }
   ],
   "source": [
    "import os\n",
    "import json\n",
    "\n",
    "example_path = '../examples/scenarios'\n",
    "example_path = os.path.join(os.path.dirname(__file__), '../src/utils')\n"
   ]
  },
  {
   "cell_type": "code",
   "execution_count": 12,
   "metadata": {},
   "outputs": [
    {
     "name": "stdout",
     "output_type": "stream",
     "text": [
      "Making Directories for run name gpt_4_test\n"
     ]
    }
   ],
   "source": [
    "run_name = 'gpt_4_test' \n",
    "print(f'Making Directories for run name {run_name}')\n",
    "file_dir = f\"../data/dataset/intention-{run_name}\"\n",
    "os.makedirs(os.path.dirname(file_dir), exist_ok=True)\n",
    "for f in hh:\n",
    "    f=f.lower() \n",
    "    os.makedirs(f'../data/{file_dir}/{f}' , exist_ok=True)"
   ]
  },
  {
   "cell_type": "code",
   "execution_count": null,
   "metadata": {},
   "outputs": [],
   "source": []
  }
 ],
 "metadata": {
  "kernelspec": {
   "display_name": "llms",
   "language": "python",
   "name": "python3"
  },
  "language_info": {
   "codemirror_mode": {
    "name": "ipython",
    "version": 3
   },
   "file_extension": ".py",
   "mimetype": "text/x-python",
   "name": "python",
   "nbconvert_exporter": "python",
   "pygments_lexer": "ipython3",
   "version": "3.11.4"
  }
 },
 "nbformat": 4,
 "nbformat_minor": 2
}
