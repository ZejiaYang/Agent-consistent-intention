{
 "cells": [
  {
   "cell_type": "code",
   "execution_count": 21,
   "metadata": {},
   "outputs": [
    {
     "name": "stdout",
     "output_type": "stream",
     "text": [
      "Label: Personal Relationships\n",
      "Embedding: 34\n",
      "(34, 1536)\n",
      "Label: Food and Nutrition\n",
      "Embedding: 30\n",
      "(30, 1536)\n",
      "Label: Criminal activity\n",
      "Embedding: 48\n",
      "(48, 1536)\n",
      "Label: Recreational Activities\n",
      "Embedding: 48\n",
      "(48, 1536)\n",
      "Label: Education and Learning\n",
      "Embedding: 20\n",
      "(20, 1536)\n",
      "Label: Politics\n",
      "Embedding: 30\n",
      "(30, 1536)\n",
      "Label: Housing and Real Estate\n",
      "Embedding: 20\n",
      "(20, 1536)\n",
      "Label: Mental Health\n",
      "Embedding: 20\n",
      "(20, 1536)\n",
      "Label: Art and Design\n",
      "Embedding: 30\n",
      "(30, 1536)\n",
      "Label: Cultural\n",
      "Embedding: 49\n",
      "(49, 1536)\n",
      "Label: Volunteering and Social Service\n",
      "Embedding: 30\n",
      "(30, 1536)\n",
      "Label: Technology Use\n",
      "Embedding: 46\n",
      "(46, 1536)\n",
      "Label: Sports and Fitness\n",
      "Embedding: 20\n",
      "(20, 1536)\n",
      "Label: Community\n",
      "Embedding: 23\n",
      "(23, 1536)\n",
      "Label: Career and Job Search\n",
      "Embedding: 33\n",
      "(33, 1536)\n",
      "Label: Financial Planning\n",
      "Embedding: 40\n",
      "(40, 1536)\n",
      "Label: Environmental\n",
      "Embedding: 46\n",
      "(46, 1536)\n",
      "Label: Travel\n",
      "Embedding: 35\n",
      "(35, 1536)\n",
      "Label: Medical\n",
      "Embedding: 24\n",
      "(24, 1536)\n"
     ]
    }
   ],
   "source": [
    "import numpy as np\n",
    "\n",
    "# Load embeddings dictionary from .npy file\n",
    "embeddings_dict = np.load('data/embeding/d_name--voyage-large-2/helpful/embeddings_voyage-large-2.npy', allow_pickle=True).item()\n",
    "\n",
    "# Access embeddings and labels\n",
    "for label, embedding in embeddings_dict.items():\n",
    "    print(\"Label:\", label)\n",
    "    print(\"Embedding:\", len(embedding))\n",
    "    t = np.array(embedding)\n",
    "    print(t.shape)"
   ]
  },
  {
   "cell_type": "code",
   "execution_count": 16,
   "metadata": {},
   "outputs": [
    {
     "name": "stdout",
     "output_type": "stream",
     "text": [
      "[[1 2 3]\n",
      " [4 5 6]\n",
      " [7 8 9]]\n"
     ]
    }
   ],
   "source": [
    "import numpy as np\n",
    "\n",
    "# Example data\n",
    "embedding = [[1, 2, 3], [4, 5, 6], [7, 8, 9]]\n",
    "\n",
    "# Convert list of lists to numpy array\n",
    "t = np.array(embedding)\n",
    "\n",
    "print(t)"
   ]
  }
 ],
 "metadata": {
  "kernelspec": {
   "display_name": "base",
   "language": "python",
   "name": "python3"
  },
  "language_info": {
   "codemirror_mode": {
    "name": "ipython",
    "version": 3
   },
   "file_extension": ".py",
   "mimetype": "text/x-python",
   "name": "python",
   "nbconvert_exporter": "python",
   "pygments_lexer": "ipython3",
   "version": "3.11.5"
  }
 },
 "nbformat": 4,
 "nbformat_minor": 2
}
